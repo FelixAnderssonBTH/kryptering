{
 "cells": [
  {
   "cell_type": "code",
   "execution_count": 1,
   "metadata": {
    "cocalc": {
     "outputs": {
      "0": {
       "name": "input",
       "opts": {
        "password": false,
        "prompt": "Ange p"
       },
       "output_type": "stream",
       "value": "23"
      },
      "1": {
       "name": "input",
       "opts": {
        "password": false,
        "prompt": "Ange q"
       },
       "output_type": "stream",
       "value": "5"
      },
      "2": {
       "name": "input",
       "opts": {
        "password": false,
        "prompt": "välj en multipel av N"
       },
       "output_type": "stream",
       "value": "7"
      }
     }
    },
    "collapsed": false,
    "scrolled": true
   },
   "outputs": [
   ],
   "source": [
    "import random\n",
    "\n",
    "def elementiz(N):\n",
    "    x = 1\n",
    "    array=[]\n",
    "    while x<N:\n",
    "        if gcd(x,N) == 1:\n",
    "            array.append(x)\n",
    "        x += 1\n",
    "    #print(array)\n",
    "    return array\n",
    "\n",
    "def lookfor(a,array):\n",
    "    if a in array:\n",
    "        return True\n",
    "    else:\n",
    "        return False\n",
    "def egcd(a,b):\n",
    "    if a == 0:\n",
    "        return (b, 0, 1)\n",
    "    else:\n",
    "        g, y, x = egcd(b % a, a)\n",
    "        return (g, x - (b // a) * y, y)\n",
    "\n",
    "def invmod(a, m):\n",
    "    g, x, y = egcd(a, m)\n",
    "    if g != 1:\n",
    "        raise Exception('inversen existerar inte')\n",
    "    else:\n",
    "        return x % m\n",
    "\n",
    "def Lfunktion(u,N):\n",
    "    result = (int(u-1))//int(N)\n",
    "    return result\n",
    "\n",
    "def my(gy,N):\n",
    "    Lg = Lfunktion(gy,N)\n",
    "    My = invmod(Lg,N)\n",
    "    return My\n",
    "\n",
    "def nyckelgenerering():\n",
    "    p = int(input(\"Ange p\"))\n",
    "    q = int(input(\"Ange q\"))\n",
    "    N = p*q\n",
    "    pN = (p-1)*(q-1)\n",
    "    if(gcd(N,pN) != 1):\n",
    "        print(\"ditt p eller q är inte godkänt\")\n",
    "    else:\n",
    "        #print(array)\n",
    "        array = elementiz(N^2)\n",
    "        g = int(input(\"välj ett slumpmässigt heltal ur Z\"))\n",
    "        if lookfor(g,array) == True:\n",
    "            y = lcm((p-1),(q-1))\n",
    "            gy = mod(g^y,N^2)\n",
    "            my(gy,N)\n",
    "            print(\"inversen existerar och är {}\".format(my(gy,N)))\n",
    "            #g = mod((a*N),(N^2))\n",
    "            print(\"Det publika nyckeln blir ({},{})\".format(N,g))\n",
    "            print(\"Det privata nyckeln blir λ({})\".format(y))\n",
    "        else:\n",
    "            print(\"ditt slumpmässiga tal är inte godkänt\")\n",
    "\n",
    "def krypteringavm(N,g):\n",
    "    x = int(input(\"välj ett valfritt x i Zn\"))\n",
    "    array = elementiz(N)\n",
    "    if lookfor(x,array) == True:\n",
    "        M = int(input(\"Ange din klartext\"))\n",
    "        c = mod(((g^M)*(x^N)),(N^2))\n",
    "        return c\n",
    "    else:\n",
    "        print(\"ditt valda x är inte godkänt då det inte tillhör Zn\")\n",
    "\n",
    "def dekryptering(c,λ,N,g):\n",
    "    Lc = Lfunktion(mod(c^λ,N^2),N)\n",
    "    gy = mod(g^λ,N^2)\n",
    "    Lg = my(gy,N)\n",
    "    M = mod(Lc*Lg,N)\n",
    "    return M\n",
    "\n",
    "def homomorphicprof(m1,m2,c1,c2,λ,N,g):\n",
    "    csum = c1*c2\n",
    "    print(\"E(m1)*E(m2) = {}*{} = {} (mod {})\".format(c1,c2,csum,(N^2)))\n",
    "    print(\"E(m1 + m2) = {}+{} = {} (mod {})\".format(m1,m2,(m1+m2),N))\n",
    "    cdekrypt = dekryptering(csum,λ,N,g)\n",
    "    print(\"om man dekrypterar {} får man: {}\".format(csum,cdekrypt))\n",
    "    print(\"Och E(m1)*E(m2) = E(m1 + m2) ==>  {} = {} + {} (mod {})\".format(cdekrypt,m1,m2,N))\n",
    "\n",
    "def randomint(array):\n",
    "    x = randint(0,len(array)-1)\n",
    "    randomvalue = array[x]\n",
    "    return randomvalue\n",
    "\n",
    "def pickaNumber(length):\n",
    "    num = sage.misc.prandom.randint(0, length-1)\n",
    "    return num\n",
    "\n",
    "def createPairs():\n",
    "    x1 = Zn[pickaNumber(len(Zn))]\n",
    "    x2 = Zn[pickaNumber(len(Zn))]\n",
    "    x3 = Zn[pickaNumber(len(Zn))]\n",
    "    y1 = sage.misc.prandom.randint(0, largenumE-1)\n",
    "    y2 = sage.misc.prandom.randint(0, largenumE-1)\n",
    "    y3 = sage.misc.prandom.randint(0, largenumE-1)\n",
    "    Z = ((pow(x1,largenumE)*pow(a,y1))*(pow(x2,largenumE)*pow(a,y2))*(pow(x3,largenumE)*pow(a,y3)) % N)\n",
    "\n",
    "    if(Z in Zn):\n",
    "        return [(x1,y1), (x2,y2), (x3,y3), Z]\n",
    "    else:\n",
    "        return(createPairs())\n",
    "\n",
    "def mu(j, delta, n, S):\n",
    "    product = 1\n",
    "    for j_prime in S:\n",
    "        print(j_prime)\n",
    "        if j_prime != j:\n",
    "            numerator = j_prime % N\n",
    "            denominator = (j_prime - j) % N\n",
    "            product *= numerator/denominator % N\n",
    "            print(product)\n",
    "    mu = delta * product % N\n",
    "    return mu"
   ]
  },
  {
   "cell_type": "code",
   "execution_count": 3,
   "metadata": {
    "cocalc": {
     "outputs": {
      "0": {
       "name": "input",
       "opts": {
        "password": false,
        "prompt": "Ange p"
       },
       "output_type": "stream",
       "value": "13"
      },
      "1": {
       "name": "input",
       "opts": {
        "password": false,
        "prompt": "Ange q"
       },
       "output_type": "stream",
       "value": "23"
      },
      "2": {
       "name": "input",
       "opts": {
        "password": false,
        "prompt": "välj ett slumpmässigt heltal ur Z"
       },
       "output_type": "stream",
       "value": "4886"
      }
     }
    },
    "collapsed": false,
    "scrolled": true
   },
   "outputs": [
    {
     "name": "stdout",
     "output_type": "stream",
     "text": "Ange p 13"
    },
    {
     "name": "stdout",
     "output_type": "stream",
     "text": "Ange q 23"
    },
    {
     "name": "stdout",
     "output_type": "stream",
     "text": "välj ett slumpmässigt heltal ur Z 4886"
    },
    {
     "name": "stdout",
     "output_type": "stream",
     "text": [
      "inversen existerar och är 102\n",
      "Det publika nyckeln blir (299,4886)\n",
      "Det privata nyckeln blir λ(132)\n"
     ]
    }
   ],
   "source": [
    "#Nyckelgenerering\n",
    "nyckelgenerering()"
   ]
  },
  {
   "cell_type": "code",
   "execution_count": 11,
   "metadata": {
    "cocalc": {
     "outputs": {
      "0": {
       "name": "input",
       "opts": {
        "password": false,
        "prompt": "Ange N"
       },
       "output_type": "stream",
       "value": "221"
      },
      "1": {
       "name": "input",
       "opts": {
        "password": false,
        "prompt": "Ange g"
       },
       "output_type": "stream",
       "value": "4886"
      },
      "2": {
       "name": "input",
       "opts": {
        "password": false,
        "prompt": "välj ett valfritt x i Zn"
       },
       "output_type": "stream",
       "value": "59"
      },
      "3": {
       "name": "input",
       "opts": {
        "password": false,
        "prompt": "Ange din klartext"
       },
       "output_type": "stream",
       "value": "456"
      }
     }
    },
    "collapsed": false,
    "scrolled": true
   },
   "outputs": [
    {
     "name": "stdout",
     "output_type": "stream",
     "text": "Ange N 221"
    },
    {
     "name": "stdout",
     "output_type": "stream",
     "text": "Ange g 4886"
    },
    {
     "name": "stdout",
     "output_type": "stream",
     "text": "välj ett valfritt x i Zn 59"
    },
    {
     "name": "stdout",
     "output_type": "stream",
     "text": "Ange din klartext 456"
    },
    {
     "name": "stdout",
     "output_type": "stream",
     "text": [
      "kryptogramet c är lika med: 33447\n"
     ]
    }
   ],
   "source": [
    "#Kryptering\n",
    "N = int(input(\"Ange N\"))\n",
    "g = int(input(\"Ange g\"))\n",
    "c = krypteringavm(N,g)\n",
    "print(\"kryptogramet c är lika med: {}\".format(c))"
   ]
  },
  {
   "cell_type": "code",
   "execution_count": 7,
   "metadata": {
    "cocalc": {
     "outputs": {
      "0": {
       "name": "input",
       "opts": {
        "password": false,
        "prompt": "Ange c"
       },
       "output_type": "stream"
      },
      "1": {
       "name": "input",
       "opts": {
        "password": false,
        "prompt": "Ange λ"
       },
       "output_type": "stream",
       "value": "132"
      },
      "2": {
       "name": "input",
       "opts": {
        "password": false,
        "prompt": "Ange N"
       },
       "output_type": "stream",
       "value": "299"
      },
      "3": {
       "name": "input",
       "opts": {
        "password": false,
        "prompt": "Ange g"
       },
       "output_type": "stream",
       "value": "4886"
      }
     }
    },
    "collapsed": false,
    "scrolled": true
   },
   "outputs": [
    {
     "name": "stdout",
     "output_type": "stream",
     "text": "Ange c "
    },
    {
     "name": "stdout",
     "output_type": "stream",
     "text": "Ange λ 132"
    }
   ],
   "source": [
    "#Dekryptering\n",
    "c = int(input(\"Ange c\"))\n",
    "λ = int(input(\"Ange λ\"))\n",
    "N = int(input(\"Ange N\"))\n",
    "g = int(input(\"Ange g\"))\n",
    "M = dekryptering(c,λ,N,g)\n",
    "print(\"Klartexten är: {}\".format(M))"
   ]
  },
  {
   "cell_type": "code",
   "execution_count": 12,
   "metadata": {
    "cocalc": {
     "outputs": {
      "0": {
       "name": "input",
       "opts": {
        "password": false,
        "prompt": "Ange m1"
       },
       "output_type": "stream",
       "value": "123"
      },
      "1": {
       "name": "input",
       "opts": {
        "password": false,
        "prompt": "Ange m2"
       },
       "output_type": "stream",
       "value": "456"
      },
      "2": {
       "name": "input",
       "opts": {
        "password": false,
        "prompt": "Ange c1"
       },
       "output_type": "stream",
       "value": "13250"
      },
      "3": {
       "name": "input",
       "opts": {
        "password": false,
        "prompt": "Ange c2"
       },
       "output_type": "stream",
       "value": "33447"
      },
      "4": {
       "name": "input",
       "opts": {
        "password": false,
        "prompt": "Ange λ"
       },
       "output_type": "stream",
       "value": "48"
      },
      "5": {
       "name": "input",
       "opts": {
        "password": false,
        "prompt": "Ange N"
       },
       "output_type": "stream",
       "value": "221"
      },
      "6": {
       "name": "input",
       "opts": {
        "password": false,
        "prompt": "Ange g"
       },
       "output_type": "stream",
       "value": "4886"
      }
     }
    },
    "collapsed": false
   },
   "outputs": [
    {
     "name": "stdout",
     "output_type": "stream",
     "text": "Ange m1 123"
    },
    {
     "name": "stdout",
     "output_type": "stream",
     "text": "Ange m2 456"
    },
    {
     "name": "stdout",
     "output_type": "stream",
     "text": "Ange c1 13250"
    },
    {
     "name": "stdout",
     "output_type": "stream",
     "text": "Ange c2 33447"
    },
    {
     "name": "stdout",
     "output_type": "stream",
     "text": "Ange λ 48"
    },
    {
     "name": "stdout",
     "output_type": "stream",
     "text": "Ange N 221"
    },
    {
     "name": "stdout",
     "output_type": "stream",
     "text": "Ange g 4886"
    },
    {
     "name": "stdout",
     "output_type": "stream",
     "text": [
      "E(m1)*E(m2) = 13250*33447 = 443172750 (mod 48841)\n",
      "E(m1 + m2) = 123+456 = 579 (mod 221)\n",
      "om man dekrypterar 443172750 får man: 137\n",
      "Och E(m1)*E(m2) = E(m1 + m2) ==>  137 = 123 + 456 (mod 221)\n"
     ]
    }
   ],
   "source": [
    "#Homomorphic\n",
    "m1 = int(input(\"Ange m1\"))\n",
    "m2 = int(input(\"Ange m2\"))\n",
    "c1 = int(input(\"Ange c1\"))\n",
    "c2 = int(input(\"Ange c2\"))\n",
    "λ = int(input(\"Ange λ\"))\n",
    "N = int(input(\"Ange N\"))\n",
    "g = int(input(\"Ange g\"))\n",
    "homomorphicprof(m1,m2,c1,c2,λ,N,g)"
   ]
  },
  {
   "cell_type": "code",
   "execution_count": 7,
   "metadata": {
    "cocalc": {
     "outputs": {
      "0": {
       "name": "input",
       "opts": {
        "password": false,
        "prompt": "Ange ett säkert primtal"
       },
       "output_type": "stream",
       "value": "23"
      },
      "1": {
       "name": "input",
       "opts": {
        "password": false,
        "prompt": "Ange ett säkert primtal"
       },
       "output_type": "stream",
       "value": "13"
      },
      "3": {
       "name": "input",
       "opts": {
        "password": false,
        "prompt": "Ange antal t"
       },
       "output_type": "stream",
       "value": "4"
      }
     }
    },
    "collapsed": false
   },
   "outputs": [
    {
     "name": "stdout",
     "output_type": "stream",
     "text": "Ange ett säkert primtal 23"
    },
    {
     "name": "stdout",
     "output_type": "stream",
     "text": "Ange ett säkert primtal 13"
    },
    {
     "name": "stdout",
     "output_type": "stream",
     "text": [
      "Ditt β är 55\n",
      "Ditt a är 32400\n",
      "Ditt b är 39204\n",
      "Det privata nyckeln SK blir (2750)\n"
     ]
    },
    {
     "name": "stdout",
     "output_type": "stream",
     "text": "Ange antal t 4"
    },
    {
     "name": "stdout",
     "output_type": "stream",
     "text": [
      "[2750, 2100, 2713, 8275, 12027]\n",
      "2750\n",
      "4850\n",
      "15702\n",
      "239127\n",
      "3318039\n"
     ]
    }
   ],
   "source": [
    "#Nyckelgenerering med Tröskelsystem\n",
    "P = int(input(\"Ange ett säkert primtal\"))\n",
    "Q = int(input(\"Ange ett säkert primtal\"))\n",
    "N = P*Q\n",
    "p = int((P/2)-1)\n",
    "q = int((Q/2)-1)\n",
    "if p in Primes() != True and q in Primes() != True:\n",
    "    print(\"Ditt P eller Q är inget säkert primtal\")\n",
    "if gcd(N,euler_phi(N)) != 1:\n",
    "    print(\"Ditt N och phi av N blir har inte 1 som största gemensamma delare\")\n",
    "m = p*q\n",
    "Z = elementiz(N)\n",
    "β = randomint(Z)\n",
    "print(\"Ditt β är {}\".format(β))\n",
    "ZxZ = []\n",
    "i = 0\n",
    "while i < len(Z):\n",
    "    square = (Z[i])^2\n",
    "    ZxZ.append(square)\n",
    "    i+=1\n",
    "a = randomint(ZxZ)\n",
    "b = randomint(ZxZ)\n",
    "print(\"Ditt a är {}\".format(a))\n",
    "print(\"Ditt b är {}\".format(b))\n",
    "g = mod((((1+N)^a)*(b^N)),N^2)\n",
    "SK = β*m\n",
    "print(\"Det privata nyckeln SK blir ({})\".format(SK))\n",
    "ai = []\n",
    "ai.append(SK)\n",
    "k = 1\n",
    "while k < N*m:\n",
    "    ai.append(k)\n",
    "    k+=1\n",
    "numberoft = int(input(\"Ange antal t\"))\n",
    "t = []\n",
    "t.append(SK)\n",
    "z = 1\n",
    "while z < numberoft+1:\n",
    "    trandom = randomint(ai)\n",
    "    t.append(trandom)\n",
    "    z+=1\n",
    "print(t)\n",
    "Fxsum = 0\n",
    "i = 0\n",
    "while i < numberoft+1:\n",
    "    Fxsum += t[i]*(i^i)\n",
    "    i+=1\n",
    "Si = mod(Fxsum,N*m)\n",
    "print(Pi)\n",
    "θ = mod(a*m*β,N)\n",
    "print(\"Din publika nyckel blir PK({},{},{})\".format(g,N,θ))\n",
    "print(\"VK({})\".format(v))"
   ]
  },
  {
   "cell_type": "code",
   "execution_count": 3,
   "metadata": {
    "cocalc": {
     "outputs": {
      "0": {
       "name": "input",
       "opts": {
        "password": false,
        "prompt": "Välj N"
       },
       "output_type": "stream",
       "value": "15"
      }
     }
    },
    "collapsed": false
   },
   "outputs": [
    {
     "name": "stdout",
     "output_type": "stream",
     "text": "Välj N 15"
    },
    {
     "name": "stdout",
     "output_type": "stream",
     "text": [
      "[0, 1, 2, 3, 4, 5, 6, 7, 8, 9, 10, 11, 12, 13, 14]\n"
     ]
    }
   ],
   "source": [
    "#Tröskelsystemet\n",
    "P = int(input(\"Ange ett säkert primtal\"))\n",
    "Q = int(input(\"Ange ett säkert primtal\"))\n",
    "N = P*Q\n",
    "p = int((P/2)-1)\n",
    "q = int((Q/2)-1)\n",
    "if p in Primes() != True and q in Primes() != True:\n",
    "    print(\"Ditt P eller Q är inget säkert primtal\")\n",
    "if gcd(N,euler_phi(N)) != 1:\n",
    "    print(\"Ditt N och phi av N blir har inte 1 som största gemensamma delare\")\n",
    "m = p*q\n",
    "Z = elementiz(N)\n",
    "β = randomint(Z)\n",
    "print(\"Ditt β är {}\".format(β))\n",
    "ZxZ = []\n",
    "i = 0\n",
    "while i < len(Z):\n",
    "    square = (Z[i])^2\n",
    "    ZxZ.append(square)\n",
    "    i+=1\n",
    "a = randomint(ZxZ)\n",
    "b = randomint(ZxZ)\n",
    "print(\"Ditt a är {}\".format(a))\n",
    "print(\"Ditt b är {}\".format(b))\n",
    "g = mod((((1+N)^a)*(b^N)),N^2)\n",
    "SK = β*m\n",
    "print(\"Det privata nyckeln SK blir ({})\".format(SK))\n",
    "ai = []\n",
    "ai.append(SK)\n",
    "k = 1\n",
    "while k < N*m:\n",
    "    ai.append(k)\n",
    "    k+=1\n",
    "numberoft = int(input(\"Ange antal t\"))\n",
    "t = []\n",
    "delta = factorial(25)\n",
    "t.append(SK)\n",
    "z = 1\n",
    "while z < numberoft+1:\n",
    "    trandom = randomint(ai)\n",
    "    t.append(trandom)\n",
    "    z+=1\n",
    "print(t)\n",
    "Fxsum = 0\n",
    "i = 0\n",
    "while i < numberoft+1:\n",
    "    Fxsum += t[i]*(i^i)\n",
    "    i+=1\n",
    "Si = mod(Fxsum,N*m)\n",
    "print(Si)\n",
    "θ = mod(a*m*β,N)\n",
    "print(\"Ditt θ är\", θ )\n",
    "print(\"Din publika nyckel blir PK({},{},{})\".format(g,N,θ))\n",
    "a0 = m*β\n",
    "a1 = randint(0, N*m-1)\n",
    "a2= randint(0, N*m-1)\n",
    "a3= randint(0, N*m-1)\n",
    "s1 = (a0 + a1*pow(1,1) + a2*pow(1,2) + a3*pow(1,3)) % (m*N)\n",
    "s2 = (a0 + a1*pow(2,1) + a2*pow(2,2) + a3*pow(1,3)) % (m*N)\n",
    "s3 = (a0 + a1*pow(3,1) + a2*pow(3,2) + a3*pow(3,3)) % (m*N)\n",
    "print(\"sss\", s1, s2, s3)\n",
    "c1 = krypteringavm(N,g)\n",
    "c2 = krypteringavm(N,g)\n",
    "c3 = krypteringavm(N,g)\n",
    "\n",
    "print(\"Ditt c1 är\", c1 )\n",
    "\n",
    "ves1= pow(c1, 2*delta*s1) % pow(N,2)\n",
    "ves2= pow(c2, 2*delta*s2) % pow(N,2)\n",
    "ves3= pow(c3, 2*delta*s3) % pow(N,2)\n",
    "S = [ves1, ves2, ves3]\n",
    "print(\"vs\", ves1, ves2, ves3)\n",
    "Mu1 = mu(1, delta, N, S)\n",
    "Mu2 = mu(2, delta, N, S)\n",
    "Mu3 = mu(3, delta, N, S)\n",
    "print(\"mu1\", Mu1)\n",
    "\n",
    "\n",
    "#v = elementiz(ZxZ)\n",
    "#print(\"VK({})\".format(v))\n",
    "#mey1= (math.prod([(ves1+678)/(678), ves3/ves3-ves1]))\n",
    "#my1v2 = mey1*delta\n",
    "#mey2= (math.prod([ves1/(ves1-ves2), ves3/ves3-ves2]))\n",
    "#my2v2 = mey2*delta\n",
    "#mey3= (math.prod([ves1/(ves1-ves3), ves2/(ves2-ves3)]))\n",
    "#my3v2 = mey3*delta\n",
    "\n",
    "\n",
    "print(\"my1\", Mu1, \"my2\",Mu2, \"my3\",Mu3)\n",
    "L =  math.prod([math.pow(ves1, Mu1), math.pow(ves2, Mu2), math.pow(ves3, Mu3)])%pow(N, 2)\n",
    "print(\"L är: \", L)\n",
    "M =int(L)*(1/(4*pow(delta,2)*θ))%N\n",
    "print(\"klartext\", M)"
   ]
  },
  {
   "cell_type": "code",
   "execution_count": 5,
   "metadata": {
    "cocalc": {
     "outputs": {
      "0": {
       "name": "input",
       "opts": {
        "password": false,
        "prompt": "Vad är N"
       },
       "output_type": "stream",
       "value": "221"
      },
      "1": {
       "name": "input",
       "opts": {
        "password": false,
        "prompt": "Vad är g"
       },
       "output_type": "stream",
       "value": "4886"
      },
      "2": {
       "name": "input",
       "opts": {
        "password": false,
        "prompt": "välj ett x ur Zn"
       },
       "output_type": "stream",
       "value": "23"
      },
      "3": {
       "name": "input",
       "opts": {
        "password": false,
        "prompt": "välj ett s ur Z*n"
       },
       "output_type": "stream",
       "value": "46"
      }
     }
    },
    "collapsed": false
   },
   "outputs": [
    {
     "name": "stdout",
     "output_type": "stream",
     "text": "Vad är N 221"
    },
    {
     "name": "stdout",
     "output_type": "stream",
     "text": "Vad är g 4886"
    },
    {
     "name": "stdout",
     "output_type": "stream",
     "text": "välj ett x ur Zn 23"
    },
    {
     "name": "stdout",
     "output_type": "stream",
     "text": "välj ett s ur Z*n 46"
    },
    {
     "name": "stdout",
     "output_type": "stream",
     "text": [
      "u valde att x är 23\n",
      "u valde att s är 46\n",
      "ditt u blir då 40067\n"
     ]
    }
   ],
   "source": [
    "#Proof of knowledge of an encrypted message P.1\n",
    "N = int(input(\"Vad är N\"))\n",
    "g = int(input(\"Vad är g\"))\n",
    "Zn = []\n",
    "i = 0\n",
    "while i < N+1:\n",
    "    Zn.append(i)\n",
    "    i+=1\n",
    "x = int(input(\"välj ett x ur Zn\"))\n",
    "if lookfor(x,Zn):\n",
    "    s = int(input(\"välj ett s ur Z*n\"))\n",
    "    ZxN = elementiz(N)\n",
    "    if lookfor(s,ZxN):\n",
    "        u = mod(((g^x)*(s^N)),(N^2))\n",
    "        print(\"u valde att x är {}\".format(x))\n",
    "        print(\"u valde att s är {}\".format(s))\n",
    "        print(\"ditt u blir då {}\".format(u))\n",
    "    else:\n",
    "        print(\"ogiltigt s\")\n",
    "else:\n",
    "    print(\"ogiltigt x\")\n"
   ]
  },
  {
   "cell_type": "code",
   "execution_count": 1,
   "metadata": {
    "cocalc": {
     "outputs": {
      "0": {
       "name": "input",
       "opts": {
        "password": false,
        "prompt": "Välj en valfri utmaning e ∈ [0, A["
       },
       "output_type": "stream",
       "value": "12"
      }
     }
    },
    "collapsed": false
   },
   "outputs": [
    {
     "name": "stdout",
     "output_type": "stream",
     "text": "Välj en valfri utmaning e ∈ [0, A[ 12"
    },
    {
     "name": "stdout",
     "output_type": "stream",
     "text": [
      "e = 12\n"
     ]
    }
   ],
   "source": [
    "#Proof of knowledge of an encrypted message V.2\n",
    "e = int(input(\"Välj en valfri utmaning e ∈ [0, A[\"))\n",
    "print(\"e = {}\".format(e))"
   ]
  },
  {
   "cell_type": "code",
   "execution_count": 10,
   "metadata": {
    "cocalc": {
     "outputs": {
      "0": {
       "name": "input",
       "opts": {
        "password": false,
        "prompt": "Vad är N"
       },
       "output_type": "stream",
       "value": "221"
      },
      "1": {
       "name": "input",
       "opts": {
        "password": false,
        "prompt": "Vad är r"
       },
       "output_type": "stream",
       "value": "59"
      },
      "2": {
       "name": "input",
       "opts": {
        "password": false,
        "prompt": "Vad är g"
       },
       "output_type": "stream",
       "value": "4886"
      },
      "3": {
       "name": "input",
       "opts": {
        "password": false,
        "prompt": "Vad var ditt x?"
       },
       "output_type": "stream",
       "value": "23"
      },
      "4": {
       "name": "input",
       "opts": {
        "password": false,
        "prompt": "Vad var ditt s?"
       },
       "output_type": "stream",
       "value": "46"
      },
      "5": {
       "name": "input",
       "opts": {
        "password": false,
        "prompt": "Vilket e fick du tilldelat?"
       },
       "output_type": "stream",
       "value": "12"
      },
      "6": {
       "name": "input",
       "opts": {
        "password": false,
        "prompt": "Vad tror du m är?"
       },
       "output_type": "stream",
       "value": "1"
      }
     }
    },
    "collapsed": false
   },
   "outputs": [
    {
     "name": "stdout",
     "output_type": "stream",
     "text": "Vad är N 221"
    },
    {
     "name": "stdout",
     "output_type": "stream",
     "text": "Vad är r 59"
    },
    {
     "name": "stdout",
     "output_type": "stream",
     "text": "Vad är g 4886"
    },
    {
     "name": "stdout",
     "output_type": "stream",
     "text": "Vad var ditt x? 23"
    },
    {
     "name": "stdout",
     "output_type": "stream",
     "text": "Vad var ditt s? 46"
    },
    {
     "name": "stdout",
     "output_type": "stream",
     "text": "Vilket e fick du tilldelat? 12"
    },
    {
     "name": "stdout",
     "output_type": "stream",
     "text": "Vad tror du m är? 1"
    },
    {
     "name": "stdout",
     "output_type": "stream",
     "text": [
      "v = 11\n",
      "w = 124\n"
     ]
    }
   ],
   "source": [
    "#Proof of knowledge of an encrypted message P.3\n",
    "N = int(input(\"Vad är N\"))\n",
    "r = int(input(\"Vad är r\"))\n",
    "g = int(input(\"Vad är g\"))\n",
    "x = int(input(\"Vad var ditt x?\"))\n",
    "s = int(input(\"Vad var ditt s?\"))\n",
    "e = int(input(\"Vilket e fick du tilldelat?\"))\n",
    "m = int(input(\"Vad tror du m är?\"))\n",
    "v = mod((x-(e*m)),N)\n",
    "invre = inverse_mod(r^e,N)\n",
    "w = mod(int((s*invre)*(g^((x-(e*m))//N))),N)\n",
    "print(\"v = {}\".format(v))\n",
    "print(\"w = {}\".format(w))"
   ]
  },
  {
   "cell_type": "code",
   "execution_count": 2,
   "metadata": {
    "cocalc": {
     "outputs": {
      "0": {
       "name": "input",
       "opts": {
        "password": false,
        "prompt": "Vad är N"
       },
       "output_type": "stream",
       "value": "221"
      },
      "1": {
       "name": "input",
       "opts": {
        "password": false,
        "prompt": "Vad är g"
       },
       "output_type": "stream",
       "value": "4886"
      },
      "2": {
       "name": "input",
       "opts": {
        "password": false,
        "prompt": "Vad är c"
       },
       "output_type": "stream",
       "value": "35338"
      },
      "3": {
       "name": "input",
       "opts": {
        "password": false,
        "prompt": "Vilket e har du get ut?"
       },
       "output_type": "stream",
       "value": "12"
      },
      "4": {
       "name": "input",
       "opts": {
        "password": false,
        "prompt": "Vad fick du för v?"
       },
       "output_type": "stream",
       "value": "11"
      },
      "5": {
       "name": "input",
       "opts": {
        "password": false,
        "prompt": "Vad fick du för w?"
       },
       "output_type": "stream",
       "value": "124"
      },
      "6": {
       "name": "input",
       "opts": {
        "password": false,
        "prompt": "Vad fick du för u i början?"
       },
       "output_type": "stream",
       "value": "40067"
      }
     }
    },
    "collapsed": false
   },
   "outputs": [
    {
     "name": "stdout",
     "output_type": "stream",
     "text": "Vad är N 221"
    },
    {
     "name": "stdout",
     "output_type": "stream",
     "text": "Vad är g 4886"
    },
    {
     "name": "stdout",
     "output_type": "stream",
     "text": "Vad är c 35338"
    },
    {
     "name": "stdout",
     "output_type": "stream",
     "text": "Vilket e har du get ut? 12"
    },
    {
     "name": "stdout",
     "output_type": "stream",
     "text": "Vad fick du för v? 11"
    },
    {
     "name": "stdout",
     "output_type": "stream",
     "text": "Vad fick du för w? 124"
    },
    {
     "name": "stdout",
     "output_type": "stream",
     "text": "Vad fick du för u i början? 40067"
    },
    {
     "name": "stdout",
     "output_type": "stream",
     "text": [
      "Du kan lita på att P känner till klartexten\n"
     ]
    }
   ],
   "source": [
    "#Proof of knowledge of an encrypted message V.4\n",
    "N = int(input(\"Vad är N\"))\n",
    "g = int(input(\"Vad är g\"))\n",
    "c = int(input(\"Vad är c\"))\n",
    "e = int(input(\"Vilket e har du get ut?\"))\n",
    "v = int(input(\"Vad fick du för v?\"))\n",
    "w = int(input(\"Vad fick du för w?\"))\n",
    "u = int(input(\"Vad fick du för u i början?\"))\n",
    "new_u = mod((g^v)*(c^e)*(w^N),N^2)\n",
    "if u == new_u:\n",
    "    print(\"Du kan lita på att P känner till klartexten\")\n",
    "else: \n",
    "    print(\"Då u inte matchar kan du inte lita på att P känner till klartexten\")"
   ]
  },
  {
   "cell_type": "code",
   "execution_count": 0,
   "metadata": {
    "collapsed": false
   },
   "outputs": [
   ],
   "source": [
    "#Blind signature\n",
    "N=19\n",
    "Zn = elementiz(N)\n",
    "largenumE = 100\n",
    "a = 5\n",
    "V = 28\n",
    "\n",
    "lsitamedxiyi = createPairs()\n",
    "\n",
    "X1, Y1 = lsitamedxiyi[0]\n",
    "X2, Y2 = lsitamedxiyi[1]\n",
    "X3, Y3 = lsitamedxiyi[2]\n",
    "Z =  lsitamedxiyi[3]\n",
    "\n",
    "\n",
    "print(\"varje myndighet väljer ett slumptal, ui, ur Zn* och ett tal vi ur [0,e[\")\n",
    "u1 = Zn[pickaNumber(len(Zn))]\n",
    "u2 = Zn[pickaNumber(len(Zn))]\n",
    "u3 = Zn[pickaNumber(len(Zn))]\n",
    "v1 = sage.misc.prandom.randint(0, largenumE-1)\n",
    "v2 = sage.misc.prandom.randint(0, largenumE-1)\n",
    "v3 = sage.misc.prandom.randint(0, largenumE-1)\n",
    "print(\"man beräknar en commitment wi, som skickas till väljare\")\n",
    "w1 = pow(u1, largenumE)*pow(a, v1)\n",
    "w2 = pow(u2, largenumE)*pow(a, v2)\n",
    "w3 = pow(u3, largenumE)*pow(a, v3)\n",
    "\n",
    "\n",
    "print(\"väljaren väljer tre blinding factors\")\n",
    "#blinding factors\n",
    "beta = Zn[pickaNumber(len(Zn))]\n",
    "alpha = sage.misc.prandom.randint(0, largenumE-1)\n",
    "gamma = sage.misc.prandom.randint(0, largenumE-1)\n",
    "print(\"beta\",beta,\"alpha\", alpha,\"gamma\", gamma)\n",
    "#committment\n",
    "print(\"väljaren beräknar w, på myndigheternas commitment\")\n",
    "w = ((w1*w2*w3)*pow(a, alpha)*pow(beta,largenumE)*pow(Z,gamma))%N\n",
    "print(\"w\", w)\n",
    "print(\"sedan skapar väljaren en challenge, epsilon, baserat på w och sin signatur, V. man beräknar även c, dessa skickas tillbaka till myndigheterna\")\n",
    "def H(challenge, pseudonym):\n",
    "    return pow(challenge, a) * pow(pseudonym, a)\n",
    "epsilon = H(w, V)\n",
    "print(\"epsilon\", epsilon)\n",
    "c = (epsilon + gamma)%largenumE\n",
    "print(\"myndigheterna använder epsilon och c, för att beräkna, ri, si och ti\")\n",
    "\n",
    "r1 = (v1 + (c*Y1))%largenumE\n",
    "\n",
    "s1pre=v1 + (c*Y1)\n",
    "s1 = (v1 + (c*Y1))//largenumE\n",
    "\n",
    "t1 = (u1*pow(X1, largenumE)*pow(a,s1))%N\n",
    "#t1 = mod(t1lol, N)\n",
    "print(\"T1\", t1)\n",
    "\n",
    "r2 = v2 + (c*Y2)%largenumE\n",
    "s2 = v2 + (c*Y2)//largenumE\n",
    "t2 = (u2*pow(X2, largenumE)*pow(a,s2))%N\n",
    "r3 = v3 + (c*Y3)%largenumE\n",
    "s3 = (v3 + (c*Y3))//largenumE\n",
    "t3 = (u3*pow(X3, largenumE)*pow(a,s3))%N\n",
    "\n",
    "print(\"myndigeterna skickar sina ri och ti till väljaren som beräknar sina signaturer\")\n",
    "\n",
    "r = ((r1+alpha)+(r2+alpha)+(r3+alpha))%N\n",
    "s = ((r1+alpha)+(r2+alpha)+(r3+alpha))/N\n",
    "sDer= (c-epsilon)%largenumE\n",
    "tPre = int(t1*beta*pow(a, s)*pow(Z,(sDer*-1))*t2*beta*pow(a, s)*pow(Z,(sDer*-1))*t3*beta*pow(a, s)*pow(Z,(sDer*-1)))\n",
    "\n",
    "\n",
    "t = mod(tPre, N)\n",
    "\n",
    "print(\"t\",t,\"r\", r, \"s\", s, \"s'\", sDer)"
   ]
  },
  {
   "cell_type": "markdown",
   "metadata": {
    "collapsed": false
   },
   "source": [
    "varje myndighet väljer ett slumptal, ui, ur Zn\\* och ett tal vi ur \\[0,e\\[\n",
    "\n",
    "man beräknar en commitment wi, som skickas till väljare\n",
    "\n",
    "väljaren väljer tre blinding factors\n",
    "\n",
    "beta 8 alpha 46 gamma 56\n",
    "\n",
    "väljaren beräknar w, på myndigheternas commitment\n",
    "\n",
    "w 5\n",
    "\n",
    "sedan skapar väljaren en challenge, epsilon, baserat på w och sin signatur, V. man beräknar även c, dessa skickas tillbaka till myndigheterna\n",
    "\n",
    "epsilon 53782400000\n",
    "\n",
    "myndigheterna använder epsilon och c, för att beräkna, ri, si och ti\n",
    "\n",
    "T1 3\n",
    "\n",
    "myndigeterna skickar sina ri och ti till väljaren som beräknar sina signaturer\n",
    "\n",
    "t 0 r 10 s 428/19 s' 56\n"
   ]
  },
  {
   "cell_type": "code",
   "execution_count": 0,
   "metadata": {
    "collapsed": false
   },
   "outputs": [
   ],
   "source": [
   ]
  }
 ],
 "metadata": {
  "kernelspec": {
   "display_name": "SageMath 9.7",
   "language": "sagemath",
   "metadata": {
    "cocalc": {
     "description": "Open-source mathematical software system",
     "priority": 10,
     "url": "https://www.sagemath.org/"
    }
   },
   "name": "sage-9.7",
   "resource_dir": "/ext/jupyter/kernels/sage-9.7"
  },
  "language_info": {
   "codemirror_mode": {
    "name": "ipython",
    "version": 3
   },
   "file_extension": ".py",
   "mimetype": "text/x-python",
   "name": "python",
   "nbconvert_exporter": "python",
   "pygments_lexer": "ipython3",
   "version": "3.10.5"
  }
 },
 "nbformat": 4,
 "nbformat_minor": 4
}